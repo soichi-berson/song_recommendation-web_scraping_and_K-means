{
 "cells": [
  {
   "cell_type": "code",
   "execution_count": 2,
   "id": "260bfb99",
   "metadata": {},
   "outputs": [],
   "source": [
    "import pandas as pd\n",
    "songs = pd.read_csv('../data/song_recommender.csv')"
   ]
  },
  {
   "cell_type": "code",
   "execution_count": null,
   "id": "403582d1",
   "metadata": {
    "collapsed": true
   },
   "outputs": [],
   "source": []
  }
 ],
 "metadata": {
  "kernelspec": {
   "display_name": "Python 3 (ipykernel)",
   "language": "python",
   "name": "python3"
  },
  "language_info": {
   "codemirror_mode": {
    "name": "ipython",
    "version": 3
   },
   "file_extension": ".py",
   "mimetype": "text/x-python",
   "name": "python",
   "nbconvert_exporter": "python",
   "pygments_lexer": "ipython3",
   "version": "3.9.12"
  }
 },
 "nbformat": 4,
 "nbformat_minor": 5
}
