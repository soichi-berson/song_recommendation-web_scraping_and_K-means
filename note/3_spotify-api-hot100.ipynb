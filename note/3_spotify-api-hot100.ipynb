{
 "cells": [
  {
   "cell_type": "markdown",
   "id": "7956558e",
   "metadata": {},
   "source": [
    "# Spotify_API_ hot 100"
   ]
  },
  {
   "cell_type": "markdown",
   "id": "bb1f011b",
   "metadata": {},
   "source": [
    "### This note get the more information of hot 100 "
   ]
  },
  {
   "cell_type": "code",
   "execution_count": 1,
   "id": "9d4984ea",
   "metadata": {},
   "outputs": [],
   "source": [
    "from bs4 import BeautifulSoup\n",
    "import pandas as pd \n",
    "import numpy as np\n",
    "import requests"
   ]
  },
  {
   "cell_type": "code",
   "execution_count": 4,
   "id": "fb37403b",
   "metadata": {},
   "outputs": [
    {
     "data": {
      "text/html": [
       "<div>\n",
       "<style scoped>\n",
       "    .dataframe tbody tr th:only-of-type {\n",
       "        vertical-align: middle;\n",
       "    }\n",
       "\n",
       "    .dataframe tbody tr th {\n",
       "        vertical-align: top;\n",
       "    }\n",
       "\n",
       "    .dataframe thead th {\n",
       "        text-align: right;\n",
       "    }\n",
       "</style>\n",
       "<table border=\"1\" class=\"dataframe\">\n",
       "  <thead>\n",
       "    <tr style=\"text-align: right;\">\n",
       "      <th></th>\n",
       "      <th>Artist</th>\n",
       "      <th>Title</th>\n",
       "    </tr>\n",
       "  </thead>\n",
       "  <tbody>\n",
       "    <tr>\n",
       "      <th>0</th>\n",
       "      <td>Morgan Wallen</td>\n",
       "      <td>Last Night</td>\n",
       "    </tr>\n",
       "    <tr>\n",
       "      <th>1</th>\n",
       "      <td>Luke Combs</td>\n",
       "      <td>Fast Car</td>\n",
       "    </tr>\n",
       "  </tbody>\n",
       "</table>\n",
       "</div>"
      ],
      "text/plain": [
       "          Artist       Title\n",
       "0  Morgan Wallen  Last Night\n",
       "1     Luke Combs    Fast Car"
      ]
     },
     "execution_count": 4,
     "metadata": {},
     "output_type": "execute_result"
    }
   ],
   "source": [
    "#load hot_100\n",
    "hot100 = pd.read_csv(\"../data/hot100.csv\")\n",
    "hot100.head(2)"
   ]
  },
  {
   "cell_type": "code",
   "execution_count": 5,
   "id": "158d32ac",
   "metadata": {},
   "outputs": [],
   "source": [
    "from credentials import *"
   ]
  },
  {
   "cell_type": "code",
   "execution_count": 6,
   "id": "f96d2084",
   "metadata": {},
   "outputs": [],
   "source": [
    "import spotipy\n",
    "import json\n",
    "from spotipy.oauth2 import SpotifyClientCredentials\n",
    "\n",
    "sp = spotipy.Spotify(auth_manager=SpotifyClientCredentials(client_id=client_id,\n",
    "                                                           client_secret=client_secret))"
   ]
  },
  {
   "cell_type": "markdown",
   "id": "c5a7bec7",
   "metadata": {},
   "source": [
    "### get the ID from Spotify"
   ]
  },
  {
   "cell_type": "code",
   "execution_count": 7,
   "id": "06950335",
   "metadata": {},
   "outputs": [],
   "source": [
    "def search_song(title, artist):\n",
    "    \n",
    "    query = \"tracks: \"+title+\" artist: \"+artist\n",
    "    #print(query)\n",
    "\n",
    "    try:\n",
    "        result = sp.search(query, limit=1)\n",
    "        song_id = result['tracks']['items'][0]['id']\n",
    "    except:\n",
    "        song_id = \"not_found\"\n",
    "\n",
    "    return song_id  "
   ]
  },
  {
   "cell_type": "code",
   "execution_count": 8,
   "id": "8cbda948",
   "metadata": {},
   "outputs": [
    {
     "data": {
      "text/plain": [
       "Artist    0\n",
       "Title     0\n",
       "dtype: int64"
      ]
     },
     "execution_count": 8,
     "metadata": {},
     "output_type": "execute_result"
    }
   ],
   "source": [
    "hot100.isnull().sum()"
   ]
  },
  {
   "cell_type": "markdown",
   "id": "beacacb4",
   "metadata": {},
   "source": [
    "###  get the audio featuires of  the hot 100"
   ]
  },
  {
   "cell_type": "code",
   "execution_count": 9,
   "id": "f7e3bd70",
   "metadata": {},
   "outputs": [
    {
     "data": {
      "text/plain": [
       "Artist    0\n",
       "Title     0\n",
       "dtype: int64"
      ]
     },
     "execution_count": 9,
     "metadata": {},
     "output_type": "execute_result"
    }
   ],
   "source": [
    "df1 = hot100\n",
    "df2 = nothot100\n",
    "df2.isnull().sum()"
   ]
  },
  {
   "cell_type": "code",
   "execution_count": 10,
   "id": "ce0fdfc3",
   "metadata": {},
   "outputs": [
    {
     "data": {
      "text/plain": [
       "57650"
      ]
     },
     "execution_count": 10,
     "metadata": {},
     "output_type": "execute_result"
    }
   ],
   "source": [
    "df2 = df2.dropna()\n",
    "len(df2)"
   ]
  },
  {
   "cell_type": "code",
   "execution_count": 11,
   "id": "45f9c5a6",
   "metadata": {},
   "outputs": [
    {
     "data": {
      "text/plain": [
       "100"
      ]
     },
     "execution_count": 11,
     "metadata": {},
     "output_type": "execute_result"
    }
   ],
   "source": [
    "len(df1)"
   ]
  },
  {
   "cell_type": "code",
   "execution_count": 12,
   "id": "e5a397fe",
   "metadata": {},
   "outputs": [
    {
     "data": {
      "text/plain": [
       "Artist    object\n",
       "Title     object\n",
       "dtype: object"
      ]
     },
     "execution_count": 12,
     "metadata": {},
     "output_type": "execute_result"
    }
   ],
   "source": [
    "df1.dtypes"
   ]
  },
  {
   "cell_type": "code",
   "execution_count": 13,
   "id": "655c1049",
   "metadata": {},
   "outputs": [],
   "source": [
    "# create groups fo 50 song for df1\n",
    "chunks_df1 = [df1.iloc[i:i+50] for i in range(0, len(df1), 50)]"
   ]
  },
  {
   "cell_type": "code",
   "execution_count": 14,
   "id": "61004f85",
   "metadata": {},
   "outputs": [],
   "source": [
    "#create the list\n",
    "import time\n",
    "song_ids_df1 = []\n",
    "for chunk in chunks_df1:\n",
    "    for index, row in chunk.iterrows():\n",
    "        song_id = search_song(row[\"Title\"], row[\"Artist\"])\n",
    "        if song_id == 'not_found':\n",
    "            print(\"yes\")\n",
    "        song_ids_df1.append(song_id)\n",
    "    time.sleep(10)\n",
    "print('finished')"
   ]
  },
  {
   "cell_type": "code",
   "execution_count": 15,
   "id": "8a13efc3",
   "metadata": {},
   "outputs": [],
   "source": [
    "## apply get_audio_features\n",
    "def get_audio_features(list_of_song_ids):\n",
    "    \n",
    "    chunks = [list_of_song_ids[i:i + 50] for i in range(0, len(list_of_song_ids), 50)]\n",
    "    \n",
    "    # Create a dictionary to store the audio features\n",
    "    audio_features_dict = {\n",
    "        'id': [],\n",
    "        'danceability': [],\n",
    "        'energy': [],\n",
    "        'key': [],\n",
    "        'loudness': [],\n",
    "        'mode': [],\n",
    "        'speechiness': [],\n",
    "        'acousticness': [],\n",
    "        'instrumentalness': [],\n",
    "        'liveness': [],\n",
    "        'valence': [],\n",
    "        'tempo': [],\n",
    "        'type': [],\n",
    "        'uri': [],\n",
    "        'track_href': [],\n",
    "        'analysis_url': [],\n",
    "        'duration_ms': [],\n",
    "        'time_signature': []\n",
    "    }\n",
    "    \n",
    "    # Retrieve the audio features for each chunk\n",
    "    for chunk in chunks:\n",
    "        audio_features = sp.audio_features(chunk)\n",
    "        \n",
    "        # Append the audio features to the dictionary\n",
    "        for feature in audio_features:\n",
    "            if feature:\n",
    "                for key in audio_features_dict.keys():\n",
    "                    audio_features_dict[key].append(feature[key])\n",
    "        \n",
    "        # Wait 20 seconds before next API call\n",
    "        time.sleep(3)\n",
    "\n",
    "    # Create a DataFrame from the dictionary\n",
    "    df = pd.DataFrame(audio_features_dict)\n",
    "\n",
    "    return df"
   ]
  },
  {
   "cell_type": "code",
   "execution_count": 16,
   "id": "113ca7d4",
   "metadata": {},
   "outputs": [],
   "source": [
    "#df3 = get_audio_features(song_ids_df1)\n",
    "#len(df3)"
   ]
  },
  {
   "cell_type": "code",
   "execution_count": 17,
   "id": "76c1127d",
   "metadata": {},
   "outputs": [],
   "source": [
    "#result = pd.concat([df1, df3], axis=1)\n",
    "#result.head()"
   ]
  },
  {
   "cell_type": "code",
   "execution_count": 18,
   "id": "350cf669",
   "metadata": {},
   "outputs": [],
   "source": [
    "#result.shape"
   ]
  },
  {
   "cell_type": "code",
   "execution_count": 19,
   "id": "e33aa7d4",
   "metadata": {},
   "outputs": [],
   "source": [
    "#result.to_csv('../data/audio_featured_hot100.csv', index=False)"
   ]
  },
  {
   "cell_type": "markdown",
   "id": "9005bdae",
   "metadata": {},
   "source": [
    "### df2 "
   ]
  },
  {
   "cell_type": "code",
   "execution_count": 20,
   "id": "2f70fe4e",
   "metadata": {},
   "outputs": [],
   "source": [
    "df2_1 = df2.iloc[:10000,:]\n",
    "df2_2 = df2.iloc[10000:20000,:]\n",
    "df2_3 = df2.iloc[20000:30000,:]\n",
    "df2_4 = df2.iloc[30000:40000,:]\n",
    "df2_5 = df2.iloc[40000:50000,:]\n",
    "df2_6 = df2.iloc[50000:,:]\n",
    "\n"
   ]
  },
  {
   "cell_type": "code",
   "execution_count": null,
   "id": "73af02ec",
   "metadata": {},
   "outputs": [],
   "source": [
    "\n"
   ]
  },
  {
   "cell_type": "code",
   "execution_count": 21,
   "id": "f53e4a0e",
   "metadata": {},
   "outputs": [],
   "source": [
    "# create the chunks\n",
    "chunks_df2_1 = [df2_1[i:i + 50] for i in range(0, len(df2_1), 50)]\n",
    "chunks_df2_2 = [df2_2[i:i + 50] for i in range(0, len(df2_2), 50)]\n",
    "chunks_df2_3 = [df2_3[i:i + 50] for i in range(0, len(df2_3), 50)]\n",
    "chunks_df2_4 = [df2_4[i:i + 50] for i in range(0, len(df2_5), 50)]\n",
    "chunks_df2_5 = [df2_5[i:i + 50] for i in range(0, len(df2_5), 50)]\n",
    "chunks_df2_6 = [df2_6[i:i + 50] for i in range(0, len(df2_6), 50)]"
   ]
  },
  {
   "cell_type": "code",
   "execution_count": 22,
   "id": "5ee76793",
   "metadata": {},
   "outputs": [],
   "source": [
    "#df2\n",
    "import time\n",
    "def search_songs(chunks:list,name:str):\n",
    "    song_ids_df2 = []\n",
    "    for chunk in chunks:\n",
    "        for index, row in chunk.iterrows():\n",
    "            song_id = search_song(row[\"Title\"], row[\"Artist\"])\n",
    "            if song_id == 'not_found':\n",
    "                #print(\"yes\")\n",
    "                song_ids_df2.append(song_id)\n",
    "        time.sleep(3)\n",
    "    print('finished')\n",
    "    csv = 'list_of_'+ name + '.csv'\n",
    "    song_ids_df2.to_csv('../data/audio_featured_not_hot100.csv', index=False)\n"
   ]
  },
  {
   "cell_type": "code",
   "execution_count": null,
   "id": "21468287",
   "metadata": {},
   "outputs": [],
   "source": [
    "list1 = search_songs(chunks_df2_1,\"chunks_df2_1\")"
   ]
  },
  {
   "cell_type": "code",
   "execution_count": null,
   "id": "c5d27450",
   "metadata": {},
   "outputs": [],
   "source": [
    "list2 = search_songs(chunks_df2_2,\"chunks_df2_2\")"
   ]
  },
  {
   "cell_type": "code",
   "execution_count": null,
   "id": "9a26594a",
   "metadata": {},
   "outputs": [],
   "source": [
    "list3 = search_songs(chunks_df2_3,\"chunks_df2_3\")"
   ]
  },
  {
   "cell_type": "code",
   "execution_count": null,
   "id": "348950c5",
   "metadata": {},
   "outputs": [],
   "source": [
    "list4 = search_songs(chunks_df2_4,\"chunks_df2_4\")"
   ]
  },
  {
   "cell_type": "code",
   "execution_count": null,
   "id": "63c6b1d5",
   "metadata": {},
   "outputs": [],
   "source": [
    "list5 = search_songs(chunks_df2_5,\"chunks_df2_5\")"
   ]
  },
  {
   "cell_type": "code",
   "execution_count": null,
   "id": "c22445de",
   "metadata": {},
   "outputs": [],
   "source": [
    "list6 = search_songs(chunks_df2_6,\"chunks_df2_6\")"
   ]
  },
  {
   "cell_type": "code",
   "execution_count": null,
   "id": "c4124a8e",
   "metadata": {},
   "outputs": [],
   "source": []
  }
 ],
 "metadata": {
  "kernelspec": {
   "display_name": "Python 3 (ipykernel)",
   "language": "python",
   "name": "python3"
  },
  "language_info": {
   "codemirror_mode": {
    "name": "ipython",
    "version": 3
   },
   "file_extension": ".py",
   "mimetype": "text/x-python",
   "name": "python",
   "nbconvert_exporter": "python",
   "pygments_lexer": "ipython3",
   "version": "3.11.3"
  }
 },
 "nbformat": 4,
 "nbformat_minor": 5
}
