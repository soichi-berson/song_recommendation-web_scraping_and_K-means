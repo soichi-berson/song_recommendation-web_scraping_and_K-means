{
 "cells": [
  {
   "cell_type": "markdown",
   "id": "7956558e",
   "metadata": {},
   "source": [
    "# Spotify_API"
   ]
  },
  {
   "cell_type": "markdown",
   "id": "bb1f011b",
   "metadata": {},
   "source": [
    "### This note get the more information of hot 100 and non hot 100 from Spotify "
   ]
  },
  {
   "cell_type": "code",
   "execution_count": 25,
   "id": "9d4984ea",
   "metadata": {},
   "outputs": [],
   "source": [
    "from bs4 import BeautifulSoup\n",
    "import pandas as pd \n",
    "import numpy as np\n",
    "import requests"
   ]
  },
  {
   "cell_type": "code",
   "execution_count": 26,
   "id": "0465d7da",
   "metadata": {},
   "outputs": [
    {
     "data": {
      "text/html": [
       "<div>\n",
       "<style scoped>\n",
       "    .dataframe tbody tr th:only-of-type {\n",
       "        vertical-align: middle;\n",
       "    }\n",
       "\n",
       "    .dataframe tbody tr th {\n",
       "        vertical-align: top;\n",
       "    }\n",
       "\n",
       "    .dataframe thead th {\n",
       "        text-align: right;\n",
       "    }\n",
       "</style>\n",
       "<table border=\"1\" class=\"dataframe\">\n",
       "  <thead>\n",
       "    <tr style=\"text-align: right;\">\n",
       "      <th></th>\n",
       "      <th>Artist</th>\n",
       "      <th>Title</th>\n",
       "    </tr>\n",
       "  </thead>\n",
       "  <tbody>\n",
       "    <tr>\n",
       "      <th>0</th>\n",
       "      <td>ABBA</td>\n",
       "      <td>Ahe's My Kind Of Girl</td>\n",
       "    </tr>\n",
       "    <tr>\n",
       "      <th>1</th>\n",
       "      <td>ABBA</td>\n",
       "      <td>Andante, Andante</td>\n",
       "    </tr>\n",
       "  </tbody>\n",
       "</table>\n",
       "</div>"
      ],
      "text/plain": [
       "  Artist                  Title\n",
       "0   ABBA  Ahe's My Kind Of Girl\n",
       "1   ABBA       Andante, Andante"
      ]
     },
     "execution_count": 26,
     "metadata": {},
     "output_type": "execute_result"
    }
   ],
   "source": [
    "#load not_hot100\n",
    "nothot100 = pd.read_csv(\"../data/nothot100.csv\")\n",
    "nothot100.head(2)"
   ]
  },
  {
   "cell_type": "code",
   "execution_count": 27,
   "id": "281abf2f",
   "metadata": {},
   "outputs": [
    {
     "data": {
      "text/plain": [
       "57650"
      ]
     },
     "execution_count": 27,
     "metadata": {},
     "output_type": "execute_result"
    }
   ],
   "source": [
    "len(nothot100)"
   ]
  },
  {
   "cell_type": "code",
   "execution_count": 69,
   "id": "158d32ac",
   "metadata": {},
   "outputs": [],
   "source": [
    "from credentials import *"
   ]
  },
  {
   "cell_type": "code",
   "execution_count": 70,
   "id": "f96d2084",
   "metadata": {},
   "outputs": [],
   "source": [
    "import spotipy\n",
    "import json\n",
    "from spotipy.oauth2 import SpotifyClientCredentials\n",
    "import os\n",
    "\n",
    "sp = spotipy.Spotify(auth_manager=SpotifyClientCredentials(client_id=client_id,\n",
    "                                                          client_secret=client_secret))"
   ]
  },
  {
   "cell_type": "markdown",
   "id": "c5a7bec7",
   "metadata": {},
   "source": [
    "### get the ID from Spotify"
   ]
  },
  {
   "cell_type": "code",
   "execution_count": 31,
   "id": "06950335",
   "metadata": {},
   "outputs": [],
   "source": [
    "def search_song(title, artist):\n",
    "    \n",
    "    query = \"tracks: \"+title+\" artist: \"+artist\n",
    "    #print(query)\n",
    "\n",
    "    try:\n",
    "        result = sp.search(query, limit=1)\n",
    "        song_id = result['tracks']['items'][0]['id']\n",
    "    except:\n",
    "        song_id = \"not_found\"\n",
    "\n",
    "    return song_id  "
   ]
  },
  {
   "cell_type": "code",
   "execution_count": 32,
   "id": "2a830b10",
   "metadata": {},
   "outputs": [
    {
     "data": {
      "text/plain": [
       "'1q8fzD7FYw9Jm5rFq1X9So'"
      ]
     },
     "execution_count": 32,
     "metadata": {},
     "output_type": "execute_result"
    }
   ],
   "source": [
    "search_song(\"dancing queen\", \"abba\")"
   ]
  },
  {
   "cell_type": "markdown",
   "id": "beacacb4",
   "metadata": {},
   "source": [
    "### choose the sample"
   ]
  },
  {
   "cell_type": "code",
   "execution_count": 33,
   "id": "f7e3bd70",
   "metadata": {},
   "outputs": [
    {
     "data": {
      "text/plain": [
       "Artist    0\n",
       "Title     0\n",
       "dtype: int64"
      ]
     },
     "execution_count": 33,
     "metadata": {},
     "output_type": "execute_result"
    }
   ],
   "source": [
    "random_seed = 42\n",
    "df2 = nothot100.sample(n=15000, random_state=random_seed)\n",
    "df2.isnull().sum()"
   ]
  },
  {
   "cell_type": "code",
   "execution_count": 34,
   "id": "16462a1c",
   "metadata": {},
   "outputs": [
    {
     "data": {
      "text/plain": [
       "(15000, 2)"
      ]
     },
     "execution_count": 34,
     "metadata": {},
     "output_type": "execute_result"
    }
   ],
   "source": [
    "df2 = df2.drop_duplicates()\n",
    "df2.shape"
   ]
  },
  {
   "cell_type": "code",
   "execution_count": 35,
   "id": "ce0fdfc3",
   "metadata": {},
   "outputs": [
    {
     "data": {
      "text/plain": [
       "15000"
      ]
     },
     "execution_count": 35,
     "metadata": {},
     "output_type": "execute_result"
    }
   ],
   "source": [
    "df2 = df2.dropna()\n",
    "len(df2)"
   ]
  },
  {
   "cell_type": "code",
   "execution_count": 37,
   "id": "8a13efc3",
   "metadata": {},
   "outputs": [],
   "source": [
    "## apply get_audio_features\n",
    "def get_audio_features(list_of_song_ids):\n",
    "    \n",
    "    chunks = [list_of_song_ids[i:i + 50] for i in range(0, len(list_of_song_ids), 50)]\n",
    "    \n",
    "    # Create a dictionary to store the audio features\n",
    "    audio_features_dict = {\n",
    "        'id': [],\n",
    "        'danceability': [],\n",
    "        'energy': [],\n",
    "        'key': [],\n",
    "        'loudness': [],\n",
    "        'mode': [],\n",
    "        'speechiness': [],\n",
    "        'acousticness': [],\n",
    "        'instrumentalness': [],\n",
    "        'liveness': [],\n",
    "        'valence': [],\n",
    "        'tempo': [],\n",
    "        'type': [],\n",
    "        'uri': [],\n",
    "        'track_href': [],\n",
    "        'analysis_url': [],\n",
    "        'duration_ms': [],\n",
    "        'time_signature': []\n",
    "    }\n",
    "    \n",
    "    # Retrieve the audio features for each chunk\n",
    "    for chunk in chunks:\n",
    "        audio_features = sp.audio_features(chunk)\n",
    "        \n",
    "        # Append the audio features to the dictionary\n",
    "        for feature in audio_features:\n",
    "            if feature:\n",
    "                for key in audio_features_dict.keys():\n",
    "                    audio_features_dict[key].append(feature[key])\n",
    "        \n",
    "        # Wait 20 seconds before next API call\n",
    "        time.sleep(10)\n",
    "\n",
    "    # Create a DataFrame from the dictionary\n",
    "    df = pd.DataFrame(audio_features_dict)\n",
    "\n",
    "    return df"
   ]
  },
  {
   "cell_type": "markdown",
   "id": "9005bdae",
   "metadata": {},
   "source": [
    "### df2 "
   ]
  },
  {
   "cell_type": "code",
   "execution_count": 38,
   "id": "33ad2c6f",
   "metadata": {},
   "outputs": [],
   "source": [
    "df2_1 = df2.iloc[:5000,:]\n",
    "df2_2 = df2.iloc[5000:10000,:]\n",
    "df2_3 = df2.iloc[10000:,:]"
   ]
  },
  {
   "cell_type": "code",
   "execution_count": 39,
   "id": "f53e4a0e",
   "metadata": {},
   "outputs": [],
   "source": [
    "# create the chunks\n",
    "chunks_df2_1 = [df2_1[i:i + 50] for i in range(0, len(df2_1), 50)]\n",
    "chunks_df2_2 = [df2_2[i:i + 50] for i in range(0, len(df2_2), 50)]\n",
    "chunks_df2_3 = [df2_3[i:i + 50] for i in range(0, len(df2_3), 50)]"
   ]
  },
  {
   "cell_type": "code",
   "execution_count": 40,
   "id": "0e5ac1a0",
   "metadata": {},
   "outputs": [],
   "source": [
    "df2.to_csv('../data/1choose_15000songs.csv', index=False)"
   ]
  },
  {
   "cell_type": "code",
   "execution_count": 41,
   "id": "b15d10cb",
   "metadata": {},
   "outputs": [
    {
     "data": {
      "text/plain": [
       "(15000, 2)"
      ]
     },
     "execution_count": 41,
     "metadata": {},
     "output_type": "execute_result"
    }
   ],
   "source": [
    "df2.shape"
   ]
  },
  {
   "cell_type": "code",
   "execution_count": 42,
   "id": "5ee76793",
   "metadata": {},
   "outputs": [
    {
     "name": "stdout",
     "output_type": "stream",
     "text": [
      "012345678910111213141516171819202122232425262728293031323334353637yes\n",
      "383940414243444546474849505152yes\n",
      "53545556575859yes\n",
      "60yes\n",
      "616263yes\n",
      "6465yes\n",
      "666768697071727374757677787980818283yes\n",
      "84yes\n",
      "858687888990919293yes\n",
      "9495yes\n",
      "96yes\n",
      "979899finished\n"
     ]
    }
   ],
   "source": [
    "#df2\n",
    "import time\n",
    "song_ids_df2_1 = []\n",
    "count = 0\n",
    "for chunk in chunks_df2_1:\n",
    "    for index, row in chunk.iterrows():\n",
    "        song_id = search_song(row[\"Title\"], row[\"Artist\"])\n",
    "        if song_id == 'not_found':\n",
    "            print(\"yes\")\n",
    "        song_ids_df2_1.append(song_id)\n",
    "    print(count, end=\"\")\n",
    "    count = count + 1\n",
    "    time.sleep(10)\n",
    "print('finished')"
   ]
  },
  {
   "cell_type": "code",
   "execution_count": 43,
   "id": "9f40aa02",
   "metadata": {},
   "outputs": [],
   "source": [
    "#save\n",
    "txt_file_path = '../data/list_data_songID_5000_1.txt'\n",
    "\n",
    "# Write the list elements to the text file\n",
    "with open(txt_file_path, 'w') as file:\n",
    "    for item in song_ids_df2_1:\n",
    "        file.write(str(item) + '\\n')"
   ]
  },
  {
   "cell_type": "code",
   "execution_count": 44,
   "id": "a9b360b2",
   "metadata": {},
   "outputs": [
    {
     "data": {
      "text/plain": [
       "5000"
      ]
     },
     "metadata": {},
     "output_type": "display_data"
    },
    {
     "data": {
      "text/plain": [
       "3615"
      ]
     },
     "metadata": {},
     "output_type": "display_data"
    }
   ],
   "source": [
    "display(len(song_ids_df2_1))\n",
    "set_list_1 = set(song_ids_df2_1)\n",
    "display(len(set_list_1))"
   ]
  },
  {
   "cell_type": "code",
   "execution_count": 45,
   "id": "19b881e8",
   "metadata": {},
   "outputs": [
    {
     "name": "stdout",
     "output_type": "stream",
     "text": [
      "012yes\n",
      "3456789101112131415yes\n",
      "16yes\n",
      "17yes\n",
      "181920212223242526272829303132yes\n",
      "33343536373839404142434445464748495051525354555657585960yes\n",
      "6162636465666768697071727374757677787980yes\n",
      "81yes\n",
      "82yes\n",
      "83yes\n",
      "84858687888990919293949596yes\n",
      "yes\n",
      "9798yes\n",
      "99finished\n"
     ]
    }
   ],
   "source": [
    "#df2\n",
    "#df2\n",
    "import time\n",
    "song_ids_df2_2 = []\n",
    "count = 0\n",
    "for chunk in chunks_df2_2:\n",
    "    for index, row in chunk.iterrows():\n",
    "        song_id = search_song(row[\"Title\"], row[\"Artist\"])\n",
    "        if song_id == 'not_found':\n",
    "            print(\"yes\")\n",
    "        song_ids_df2_2.append(song_id)\n",
    "    print(count, end=\"\")\n",
    "    count = count + 1\n",
    "    time.sleep(10)\n",
    "print('finished')"
   ]
  },
  {
   "cell_type": "code",
   "execution_count": 47,
   "id": "e182e6c4",
   "metadata": {},
   "outputs": [],
   "source": [
    "#save\n",
    "txt_file_path = '../data/list_data_songID_5000_2.txt'\n",
    "\n",
    "# Write the list elements to the text file\n",
    "with open(txt_file_path, 'w') as file:\n",
    "    for item in song_ids_df2_2:\n",
    "        file.write(str(item) + '\\n')"
   ]
  },
  {
   "cell_type": "code",
   "execution_count": 48,
   "id": "9d87495e",
   "metadata": {},
   "outputs": [
    {
     "name": "stdout",
     "output_type": "stream",
     "text": [
      "yes\n",
      "01234567891011121314yes\n",
      "151617181920yes\n",
      "2122yes\n",
      "232425262728293031323334353637383940414243444546474849505152535455565758yes\n",
      "59606162636465666768697071727374yes\n",
      "7576yes\n",
      "7778798081yes\n",
      "8283848586yes\n",
      "878889909192yes\n",
      "93949596979899finished\n"
     ]
    }
   ],
   "source": [
    "#df2\n",
    "import time\n",
    "song_ids_df2_3 = []\n",
    "count = 0\n",
    "for chunk in chunks_df2_3:\n",
    "    for index, row in chunk.iterrows():\n",
    "        song_id = search_song(row[\"Title\"], row[\"Artist\"])\n",
    "        if song_id == 'not_found':\n",
    "            print(\"yes\")\n",
    "        song_ids_df2_3.append(song_id)\n",
    "    print(count, end=\"\")\n",
    "    count = count + 1\n",
    "    time.sleep(10)\n",
    "print('finished')"
   ]
  },
  {
   "cell_type": "code",
   "execution_count": 50,
   "id": "8840d1d2",
   "metadata": {},
   "outputs": [],
   "source": [
    "txt_file_path = '../data/list_data_songID_5000_3.txt'\n",
    "\n",
    "# Write the list elements to the text file\n",
    "with open(txt_file_path, 'w') as file:\n",
    "    for item in song_ids_df2_3:\n",
    "        file.write(str(item) + '\\n')"
   ]
  },
  {
   "cell_type": "code",
   "execution_count": 51,
   "id": "9ecc07de",
   "metadata": {},
   "outputs": [
    {
     "data": {
      "text/plain": [
       "15000"
      ]
     },
     "execution_count": 51,
     "metadata": {},
     "output_type": "execute_result"
    }
   ],
   "source": [
    "song_ids_df2 = song_ids_df2_1 + song_ids_df2_2 + song_ids_df2_3\n",
    "len(song_ids_df2)"
   ]
  },
  {
   "cell_type": "code",
   "execution_count": 52,
   "id": "5f6e949d",
   "metadata": {},
   "outputs": [
    {
     "data": {
      "text/plain": [
       "[1903,\n",
       " 2692,\n",
       " 3019,\n",
       " 3095,\n",
       " 3202,\n",
       " 3315,\n",
       " 4202,\n",
       " 4281,\n",
       " 4730,\n",
       " 4842,\n",
       " 4867,\n",
       " 5170,\n",
       " 5818,\n",
       " 5889,\n",
       " 5913,\n",
       " 6650,\n",
       " 8084,\n",
       " 9088,\n",
       " 9130,\n",
       " 9169,\n",
       " 9241,\n",
       " 9850,\n",
       " 9883,\n",
       " 9998,\n",
       " 10000,\n",
       " 10757,\n",
       " 11097,\n",
       " 11150,\n",
       " 12973,\n",
       " 13793,\n",
       " 13895,\n",
       " 14104,\n",
       " 14365,\n",
       " 14653]"
      ]
     },
     "execution_count": 52,
     "metadata": {},
     "output_type": "execute_result"
    }
   ],
   "source": [
    "#to get the index which has 'not_found'\n",
    "index_list = []\n",
    "for i in range(0,15000):\n",
    "    if song_ids_df2[i] == 'not_found':\n",
    "        index_list.append(i)\n",
    "index_list    "
   ]
  },
  {
   "cell_type": "code",
   "execution_count": 53,
   "id": "ad2d7ce2",
   "metadata": {},
   "outputs": [
    {
     "data": {
      "text/plain": [
       "14966"
      ]
     },
     "execution_count": 53,
     "metadata": {},
     "output_type": "execute_result"
    }
   ],
   "source": [
    "song_ids_df3 = song_ids_df2.copy()\n",
    "#remove 'not_found' values \n",
    "song_ids_df3 = [x for x in song_ids_df3 if x != 'not_found']\n",
    "len(song_ids_df3)"
   ]
  },
  {
   "cell_type": "code",
   "execution_count": 96,
   "id": "e7cb7cf8",
   "metadata": {},
   "outputs": [],
   "source": [
    "txt_file_path = '../data/song_ids_15000.txt'\n",
    "\n",
    "# Write the list elements to the text file\n",
    "with open(txt_file_path, 'w') as file:\n",
    "    for item in song_ids_df3:\n",
    "        file.write(str(item) + '\\n')"
   ]
  },
  {
   "cell_type": "code",
   "execution_count": 54,
   "id": "4b615c01",
   "metadata": {},
   "outputs": [
    {
     "data": {
      "text/plain": [
       "14966"
      ]
     },
     "execution_count": 54,
     "metadata": {},
     "output_type": "execute_result"
    }
   ],
   "source": [
    "# remove specific rows based on the given indices\n",
    "df8 = df2.copy()\n",
    "df9 = df8.reset_index(drop=True)\n",
    "df10 = df9.drop(index_list)\n",
    "len(df10)\n"
   ]
  },
  {
   "cell_type": "code",
   "execution_count": 55,
   "id": "a8b353eb",
   "metadata": {},
   "outputs": [],
   "source": [
    "id_1 = song_ids_df3[:5000]\n",
    "id_2 = song_ids_df3[5000 : 10000]\n",
    "id_3 = song_ids_df3[10000 :]"
   ]
  },
  {
   "cell_type": "code",
   "execution_count": 66,
   "id": "a9bec1e6",
   "metadata": {},
   "outputs": [],
   "source": [
    "## apply get_audio_features\n",
    "def get_audio_features1(list_of_song_ids):\n",
    "    count = 0\n",
    "    chunks = [list_of_song_ids[i:i + 50] for i in range(0, len(list_of_song_ids), 50)]\n",
    "    \n",
    "    # Create a dictionary to store the audio features\n",
    "    audio_features_dict = {\n",
    "        'id': [],\n",
    "        'danceability': [],\n",
    "        'energy': [],\n",
    "        'key': [],\n",
    "        'loudness': [],\n",
    "        'mode': [],\n",
    "        'speechiness': [],\n",
    "        'acousticness': [],\n",
    "        'instrumentalness': [],\n",
    "        'liveness': [],\n",
    "        'valence': [],\n",
    "        'tempo': [],\n",
    "        'type': [],\n",
    "        'uri': [],\n",
    "        'track_href': [],\n",
    "        'analysis_url': [],\n",
    "        'duration_ms': [],\n",
    "        'time_signature': []\n",
    "    }\n",
    "    \n",
    "    # Retrieve the audio features for each chunk\n",
    "    for chunk in chunks:\n",
    "        audio_features = sp.audio_features(chunk)\n",
    "        \n",
    "        # Append the audio features to the dictionary\n",
    "        for feature in audio_features:\n",
    "            if feature:\n",
    "                for key in audio_features_dict.keys():\n",
    "                    audio_features_dict[key].append(feature[key])\n",
    "        \n",
    "        # Wait 15 seconds before next API call\n",
    "        print(count,end='')\n",
    "        count = count + 1\n",
    "        time.sleep(30)\n",
    "\n",
    "    # Create a DataFrame from the dictionary\n",
    "    df = pd.DataFrame(audio_features_dict)\n",
    "\n",
    "    return df"
   ]
  },
  {
   "cell_type": "code",
   "execution_count": 62,
   "id": "c472320e",
   "metadata": {},
   "outputs": [
    {
     "name": "stdout",
     "output_type": "stream",
     "text": [
      "0123456789101112131415161718192021222324252627282930313233343536373839404142434445464748495051525354555657585960616263646566676869707172737475767778798081828384858687888990919293949596979899"
     ]
    }
   ],
   "source": [
    "df11_1 = get_audio_features1(id_1)"
   ]
  },
  {
   "cell_type": "code",
   "execution_count": 63,
   "id": "308a617f",
   "metadata": {},
   "outputs": [],
   "source": [
    "df11_1.to_csv('../data/only__audio_featured_not_hot100_1.csv', index=False)"
   ]
  },
  {
   "cell_type": "code",
   "execution_count": 71,
   "id": "7d245043",
   "metadata": {},
   "outputs": [
    {
     "name": "stdout",
     "output_type": "stream",
     "text": [
      "0123456789101112131415161718192021222324252627282930313233343536373839404142434445464748495051525354555657585960616263646566676869707172737475767778798081828384858687888990919293949596979899"
     ]
    }
   ],
   "source": [
    "df11_2 = get_audio_features1(id_2)"
   ]
  },
  {
   "cell_type": "code",
   "execution_count": 72,
   "id": "e16cdaa7",
   "metadata": {},
   "outputs": [],
   "source": [
    "df11_2.to_csv('../data/only__audio_featured_not_hot100_2.csv', index=False)"
   ]
  },
  {
   "cell_type": "code",
   "execution_count": 73,
   "id": "6526ded5",
   "metadata": {},
   "outputs": [
    {
     "name": "stdout",
     "output_type": "stream",
     "text": [
      "0123456789101112131415161718192021222324252627282930313233343536373839404142434445464748495051525354555657585960616263646566676869707172737475767778798081828384858687888990919293949596979899"
     ]
    }
   ],
   "source": [
    "df11_3 = get_audio_features1(id_3)"
   ]
  },
  {
   "cell_type": "code",
   "execution_count": 74,
   "id": "29ece19f",
   "metadata": {},
   "outputs": [],
   "source": [
    "df11_3.to_csv('../data/only__audio_featured_not_hot100_3.csv', index=False)"
   ]
  },
  {
   "cell_type": "code",
   "execution_count": 75,
   "id": "ce595399",
   "metadata": {},
   "outputs": [
    {
     "data": {
      "text/html": [
       "<div>\n",
       "<style scoped>\n",
       "    .dataframe tbody tr th:only-of-type {\n",
       "        vertical-align: middle;\n",
       "    }\n",
       "\n",
       "    .dataframe tbody tr th {\n",
       "        vertical-align: top;\n",
       "    }\n",
       "\n",
       "    .dataframe thead th {\n",
       "        text-align: right;\n",
       "    }\n",
       "</style>\n",
       "<table border=\"1\" class=\"dataframe\">\n",
       "  <thead>\n",
       "    <tr style=\"text-align: right;\">\n",
       "      <th></th>\n",
       "      <th>id</th>\n",
       "      <th>danceability</th>\n",
       "      <th>energy</th>\n",
       "      <th>key</th>\n",
       "      <th>loudness</th>\n",
       "      <th>mode</th>\n",
       "      <th>speechiness</th>\n",
       "      <th>acousticness</th>\n",
       "      <th>instrumentalness</th>\n",
       "      <th>liveness</th>\n",
       "      <th>valence</th>\n",
       "      <th>tempo</th>\n",
       "      <th>type</th>\n",
       "      <th>uri</th>\n",
       "      <th>track_href</th>\n",
       "      <th>analysis_url</th>\n",
       "      <th>duration_ms</th>\n",
       "      <th>time_signature</th>\n",
       "    </tr>\n",
       "  </thead>\n",
       "  <tbody>\n",
       "    <tr>\n",
       "      <th>0</th>\n",
       "      <td>59ze8lLaqAIamVOBx46RcQ</td>\n",
       "      <td>0.811</td>\n",
       "      <td>0.824</td>\n",
       "      <td>10</td>\n",
       "      <td>-3.614</td>\n",
       "      <td>0</td>\n",
       "      <td>0.1780</td>\n",
       "      <td>0.06920</td>\n",
       "      <td>0.000000</td>\n",
       "      <td>0.3610</td>\n",
       "      <td>0.567</td>\n",
       "      <td>125.000</td>\n",
       "      <td>audio_features</td>\n",
       "      <td>spotify:track:59ze8lLaqAIamVOBx46RcQ</td>\n",
       "      <td>https://api.spotify.com/v1/tracks/59ze8lLaqAIa...</td>\n",
       "      <td>https://api.spotify.com/v1/audio-analysis/59ze...</td>\n",
       "      <td>161280</td>\n",
       "      <td>4</td>\n",
       "    </tr>\n",
       "    <tr>\n",
       "      <th>1</th>\n",
       "      <td>3BPFhsI1f4gFM3TaAaW7Dk</td>\n",
       "      <td>0.759</td>\n",
       "      <td>0.471</td>\n",
       "      <td>7</td>\n",
       "      <td>-10.159</td>\n",
       "      <td>1</td>\n",
       "      <td>0.0276</td>\n",
       "      <td>0.42100</td>\n",
       "      <td>0.000000</td>\n",
       "      <td>0.3020</td>\n",
       "      <td>0.801</td>\n",
       "      <td>92.723</td>\n",
       "      <td>audio_features</td>\n",
       "      <td>spotify:track:3BPFhsI1f4gFM3TaAaW7Dk</td>\n",
       "      <td>https://api.spotify.com/v1/tracks/3BPFhsI1f4gF...</td>\n",
       "      <td>https://api.spotify.com/v1/audio-analysis/3BPF...</td>\n",
       "      <td>123040</td>\n",
       "      <td>4</td>\n",
       "    </tr>\n",
       "    <tr>\n",
       "      <th>2</th>\n",
       "      <td>0a7BloCiNzLDD9qSQHh5m7</td>\n",
       "      <td>0.622</td>\n",
       "      <td>0.961</td>\n",
       "      <td>11</td>\n",
       "      <td>-3.198</td>\n",
       "      <td>0</td>\n",
       "      <td>0.1540</td>\n",
       "      <td>0.00523</td>\n",
       "      <td>0.000000</td>\n",
       "      <td>0.0854</td>\n",
       "      <td>0.449</td>\n",
       "      <td>114.452</td>\n",
       "      <td>audio_features</td>\n",
       "      <td>spotify:track:0a7BloCiNzLDD9qSQHh5m7</td>\n",
       "      <td>https://api.spotify.com/v1/tracks/0a7BloCiNzLD...</td>\n",
       "      <td>https://api.spotify.com/v1/audio-analysis/0a7B...</td>\n",
       "      <td>180267</td>\n",
       "      <td>4</td>\n",
       "    </tr>\n",
       "    <tr>\n",
       "      <th>3</th>\n",
       "      <td>1xKQbqQtQWrtQS47fUJBtl</td>\n",
       "      <td>0.443</td>\n",
       "      <td>0.727</td>\n",
       "      <td>4</td>\n",
       "      <td>-7.951</td>\n",
       "      <td>1</td>\n",
       "      <td>0.1450</td>\n",
       "      <td>0.26300</td>\n",
       "      <td>0.000141</td>\n",
       "      <td>0.1690</td>\n",
       "      <td>0.566</td>\n",
       "      <td>160.820</td>\n",
       "      <td>audio_features</td>\n",
       "      <td>spotify:track:1xKQbqQtQWrtQS47fUJBtl</td>\n",
       "      <td>https://api.spotify.com/v1/tracks/1xKQbqQtQWrt...</td>\n",
       "      <td>https://api.spotify.com/v1/audio-analysis/1xKQ...</td>\n",
       "      <td>253333</td>\n",
       "      <td>4</td>\n",
       "    </tr>\n",
       "    <tr>\n",
       "      <th>4</th>\n",
       "      <td>4Q27I5G3W14hnYVi45oi2h</td>\n",
       "      <td>0.222</td>\n",
       "      <td>0.659</td>\n",
       "      <td>0</td>\n",
       "      <td>-9.942</td>\n",
       "      <td>1</td>\n",
       "      <td>0.0487</td>\n",
       "      <td>0.01690</td>\n",
       "      <td>0.000021</td>\n",
       "      <td>0.4710</td>\n",
       "      <td>0.322</td>\n",
       "      <td>75.634</td>\n",
       "      <td>audio_features</td>\n",
       "      <td>spotify:track:4Q27I5G3W14hnYVi45oi2h</td>\n",
       "      <td>https://api.spotify.com/v1/tracks/4Q27I5G3W14h...</td>\n",
       "      <td>https://api.spotify.com/v1/audio-analysis/4Q27...</td>\n",
       "      <td>344227</td>\n",
       "      <td>4</td>\n",
       "    </tr>\n",
       "    <tr>\n",
       "      <th>...</th>\n",
       "      <td>...</td>\n",
       "      <td>...</td>\n",
       "      <td>...</td>\n",
       "      <td>...</td>\n",
       "      <td>...</td>\n",
       "      <td>...</td>\n",
       "      <td>...</td>\n",
       "      <td>...</td>\n",
       "      <td>...</td>\n",
       "      <td>...</td>\n",
       "      <td>...</td>\n",
       "      <td>...</td>\n",
       "      <td>...</td>\n",
       "      <td>...</td>\n",
       "      <td>...</td>\n",
       "      <td>...</td>\n",
       "      <td>...</td>\n",
       "      <td>...</td>\n",
       "    </tr>\n",
       "    <tr>\n",
       "      <th>4959</th>\n",
       "      <td>7gtrXOGETM9OkerNjNXeie</td>\n",
       "      <td>0.551</td>\n",
       "      <td>0.233</td>\n",
       "      <td>6</td>\n",
       "      <td>-18.251</td>\n",
       "      <td>0</td>\n",
       "      <td>0.0312</td>\n",
       "      <td>0.71000</td>\n",
       "      <td>0.000949</td>\n",
       "      <td>0.1100</td>\n",
       "      <td>0.659</td>\n",
       "      <td>89.574</td>\n",
       "      <td>audio_features</td>\n",
       "      <td>spotify:track:7gtrXOGETM9OkerNjNXeie</td>\n",
       "      <td>https://api.spotify.com/v1/tracks/7gtrXOGETM9O...</td>\n",
       "      <td>https://api.spotify.com/v1/audio-analysis/7gtr...</td>\n",
       "      <td>165187</td>\n",
       "      <td>4</td>\n",
       "    </tr>\n",
       "    <tr>\n",
       "      <th>4960</th>\n",
       "      <td>4XI5GjQ6zcJXsDnuyOGGEa</td>\n",
       "      <td>0.710</td>\n",
       "      <td>0.615</td>\n",
       "      <td>0</td>\n",
       "      <td>-8.230</td>\n",
       "      <td>1</td>\n",
       "      <td>0.1330</td>\n",
       "      <td>0.03840</td>\n",
       "      <td>0.000000</td>\n",
       "      <td>0.2830</td>\n",
       "      <td>0.746</td>\n",
       "      <td>90.263</td>\n",
       "      <td>audio_features</td>\n",
       "      <td>spotify:track:4XI5GjQ6zcJXsDnuyOGGEa</td>\n",
       "      <td>https://api.spotify.com/v1/tracks/4XI5GjQ6zcJX...</td>\n",
       "      <td>https://api.spotify.com/v1/audio-analysis/4XI5...</td>\n",
       "      <td>239698</td>\n",
       "      <td>4</td>\n",
       "    </tr>\n",
       "    <tr>\n",
       "      <th>4961</th>\n",
       "      <td>1zW2csx1vVJrKfvDrFQNVt</td>\n",
       "      <td>0.594</td>\n",
       "      <td>0.889</td>\n",
       "      <td>5</td>\n",
       "      <td>-7.775</td>\n",
       "      <td>1</td>\n",
       "      <td>0.2460</td>\n",
       "      <td>0.76800</td>\n",
       "      <td>0.000000</td>\n",
       "      <td>0.1240</td>\n",
       "      <td>0.800</td>\n",
       "      <td>116.187</td>\n",
       "      <td>audio_features</td>\n",
       "      <td>spotify:track:1zW2csx1vVJrKfvDrFQNVt</td>\n",
       "      <td>https://api.spotify.com/v1/tracks/1zW2csx1vVJr...</td>\n",
       "      <td>https://api.spotify.com/v1/audio-analysis/1zW2...</td>\n",
       "      <td>221704</td>\n",
       "      <td>4</td>\n",
       "    </tr>\n",
       "    <tr>\n",
       "      <th>4962</th>\n",
       "      <td>7ja9qZB2Z3nzKS3QnsHHPa</td>\n",
       "      <td>0.906</td>\n",
       "      <td>0.726</td>\n",
       "      <td>1</td>\n",
       "      <td>-4.537</td>\n",
       "      <td>1</td>\n",
       "      <td>0.1380</td>\n",
       "      <td>0.05630</td>\n",
       "      <td>0.000000</td>\n",
       "      <td>0.1940</td>\n",
       "      <td>0.598</td>\n",
       "      <td>117.950</td>\n",
       "      <td>audio_features</td>\n",
       "      <td>spotify:track:7ja9qZB2Z3nzKS3QnsHHPa</td>\n",
       "      <td>https://api.spotify.com/v1/tracks/7ja9qZB2Z3nz...</td>\n",
       "      <td>https://api.spotify.com/v1/audio-analysis/7ja9...</td>\n",
       "      <td>184187</td>\n",
       "      <td>4</td>\n",
       "    </tr>\n",
       "    <tr>\n",
       "      <th>4963</th>\n",
       "      <td>1ydpGKWD5D8tvTHWN8h58q</td>\n",
       "      <td>0.617</td>\n",
       "      <td>0.962</td>\n",
       "      <td>0</td>\n",
       "      <td>-5.314</td>\n",
       "      <td>1</td>\n",
       "      <td>0.0449</td>\n",
       "      <td>0.12900</td>\n",
       "      <td>0.001710</td>\n",
       "      <td>0.5110</td>\n",
       "      <td>0.968</td>\n",
       "      <td>131.434</td>\n",
       "      <td>audio_features</td>\n",
       "      <td>spotify:track:1ydpGKWD5D8tvTHWN8h58q</td>\n",
       "      <td>https://api.spotify.com/v1/tracks/1ydpGKWD5D8t...</td>\n",
       "      <td>https://api.spotify.com/v1/audio-analysis/1ydp...</td>\n",
       "      <td>217453</td>\n",
       "      <td>4</td>\n",
       "    </tr>\n",
       "  </tbody>\n",
       "</table>\n",
       "<p>14964 rows × 18 columns</p>\n",
       "</div>"
      ],
      "text/plain": [
       "                          id  danceability  energy  key  loudness  mode  \\\n",
       "0     59ze8lLaqAIamVOBx46RcQ         0.811   0.824   10    -3.614     0   \n",
       "1     3BPFhsI1f4gFM3TaAaW7Dk         0.759   0.471    7   -10.159     1   \n",
       "2     0a7BloCiNzLDD9qSQHh5m7         0.622   0.961   11    -3.198     0   \n",
       "3     1xKQbqQtQWrtQS47fUJBtl         0.443   0.727    4    -7.951     1   \n",
       "4     4Q27I5G3W14hnYVi45oi2h         0.222   0.659    0    -9.942     1   \n",
       "...                      ...           ...     ...  ...       ...   ...   \n",
       "4959  7gtrXOGETM9OkerNjNXeie         0.551   0.233    6   -18.251     0   \n",
       "4960  4XI5GjQ6zcJXsDnuyOGGEa         0.710   0.615    0    -8.230     1   \n",
       "4961  1zW2csx1vVJrKfvDrFQNVt         0.594   0.889    5    -7.775     1   \n",
       "4962  7ja9qZB2Z3nzKS3QnsHHPa         0.906   0.726    1    -4.537     1   \n",
       "4963  1ydpGKWD5D8tvTHWN8h58q         0.617   0.962    0    -5.314     1   \n",
       "\n",
       "      speechiness  acousticness  instrumentalness  liveness  valence    tempo  \\\n",
       "0          0.1780       0.06920          0.000000    0.3610    0.567  125.000   \n",
       "1          0.0276       0.42100          0.000000    0.3020    0.801   92.723   \n",
       "2          0.1540       0.00523          0.000000    0.0854    0.449  114.452   \n",
       "3          0.1450       0.26300          0.000141    0.1690    0.566  160.820   \n",
       "4          0.0487       0.01690          0.000021    0.4710    0.322   75.634   \n",
       "...           ...           ...               ...       ...      ...      ...   \n",
       "4959       0.0312       0.71000          0.000949    0.1100    0.659   89.574   \n",
       "4960       0.1330       0.03840          0.000000    0.2830    0.746   90.263   \n",
       "4961       0.2460       0.76800          0.000000    0.1240    0.800  116.187   \n",
       "4962       0.1380       0.05630          0.000000    0.1940    0.598  117.950   \n",
       "4963       0.0449       0.12900          0.001710    0.5110    0.968  131.434   \n",
       "\n",
       "                type                                   uri  \\\n",
       "0     audio_features  spotify:track:59ze8lLaqAIamVOBx46RcQ   \n",
       "1     audio_features  spotify:track:3BPFhsI1f4gFM3TaAaW7Dk   \n",
       "2     audio_features  spotify:track:0a7BloCiNzLDD9qSQHh5m7   \n",
       "3     audio_features  spotify:track:1xKQbqQtQWrtQS47fUJBtl   \n",
       "4     audio_features  spotify:track:4Q27I5G3W14hnYVi45oi2h   \n",
       "...              ...                                   ...   \n",
       "4959  audio_features  spotify:track:7gtrXOGETM9OkerNjNXeie   \n",
       "4960  audio_features  spotify:track:4XI5GjQ6zcJXsDnuyOGGEa   \n",
       "4961  audio_features  spotify:track:1zW2csx1vVJrKfvDrFQNVt   \n",
       "4962  audio_features  spotify:track:7ja9qZB2Z3nzKS3QnsHHPa   \n",
       "4963  audio_features  spotify:track:1ydpGKWD5D8tvTHWN8h58q   \n",
       "\n",
       "                                             track_href  \\\n",
       "0     https://api.spotify.com/v1/tracks/59ze8lLaqAIa...   \n",
       "1     https://api.spotify.com/v1/tracks/3BPFhsI1f4gF...   \n",
       "2     https://api.spotify.com/v1/tracks/0a7BloCiNzLD...   \n",
       "3     https://api.spotify.com/v1/tracks/1xKQbqQtQWrt...   \n",
       "4     https://api.spotify.com/v1/tracks/4Q27I5G3W14h...   \n",
       "...                                                 ...   \n",
       "4959  https://api.spotify.com/v1/tracks/7gtrXOGETM9O...   \n",
       "4960  https://api.spotify.com/v1/tracks/4XI5GjQ6zcJX...   \n",
       "4961  https://api.spotify.com/v1/tracks/1zW2csx1vVJr...   \n",
       "4962  https://api.spotify.com/v1/tracks/7ja9qZB2Z3nz...   \n",
       "4963  https://api.spotify.com/v1/tracks/1ydpGKWD5D8t...   \n",
       "\n",
       "                                           analysis_url  duration_ms  \\\n",
       "0     https://api.spotify.com/v1/audio-analysis/59ze...       161280   \n",
       "1     https://api.spotify.com/v1/audio-analysis/3BPF...       123040   \n",
       "2     https://api.spotify.com/v1/audio-analysis/0a7B...       180267   \n",
       "3     https://api.spotify.com/v1/audio-analysis/1xKQ...       253333   \n",
       "4     https://api.spotify.com/v1/audio-analysis/4Q27...       344227   \n",
       "...                                                 ...          ...   \n",
       "4959  https://api.spotify.com/v1/audio-analysis/7gtr...       165187   \n",
       "4960  https://api.spotify.com/v1/audio-analysis/4XI5...       239698   \n",
       "4961  https://api.spotify.com/v1/audio-analysis/1zW2...       221704   \n",
       "4962  https://api.spotify.com/v1/audio-analysis/7ja9...       184187   \n",
       "4963  https://api.spotify.com/v1/audio-analysis/1ydp...       217453   \n",
       "\n",
       "      time_signature  \n",
       "0                  4  \n",
       "1                  4  \n",
       "2                  4  \n",
       "3                  4  \n",
       "4                  4  \n",
       "...              ...  \n",
       "4959               4  \n",
       "4960               4  \n",
       "4961               4  \n",
       "4962               4  \n",
       "4963               4  \n",
       "\n",
       "[14964 rows x 18 columns]"
      ]
     },
     "execution_count": 75,
     "metadata": {},
     "output_type": "execute_result"
    }
   ],
   "source": [
    "# Concatenate the three DataFrames vertically\n",
    "concat15000 = pd.concat([df11_1, df11_2, df11_3])\n",
    "concat15000"
   ]
  },
  {
   "cell_type": "code",
   "execution_count": 76,
   "id": "b683a955",
   "metadata": {},
   "outputs": [
    {
     "data": {
      "text/plain": [
       "id                  0\n",
       "danceability        0\n",
       "energy              0\n",
       "key                 0\n",
       "loudness            0\n",
       "mode                0\n",
       "speechiness         0\n",
       "acousticness        0\n",
       "instrumentalness    0\n",
       "liveness            0\n",
       "valence             0\n",
       "tempo               0\n",
       "type                0\n",
       "uri                 0\n",
       "track_href          0\n",
       "analysis_url        0\n",
       "duration_ms         0\n",
       "time_signature      0\n",
       "dtype: int64"
      ]
     },
     "execution_count": 76,
     "metadata": {},
     "output_type": "execute_result"
    }
   ],
   "source": [
    "concat15000.isnull().sum()"
   ]
  },
  {
   "cell_type": "code",
   "execution_count": 77,
   "id": "dcc91e18",
   "metadata": {},
   "outputs": [],
   "source": [
    "concat15000.to_csv('../data/only__audio_featured_not_hot100.csv', index=False)"
   ]
  },
  {
   "cell_type": "code",
   "execution_count": 78,
   "id": "d1c63b17",
   "metadata": {},
   "outputs": [
    {
     "data": {
      "text/plain": [
       "14966"
      ]
     },
     "execution_count": 78,
     "metadata": {},
     "output_type": "execute_result"
    }
   ],
   "source": [
    "len(df10)"
   ]
  },
  {
   "cell_type": "markdown",
   "id": "01458272",
   "metadata": {},
   "source": [
    "#### continue the next notebook: 3_spotify-api-song_15000_-2 "
   ]
  }
 ],
 "metadata": {
  "kernelspec": {
   "display_name": "Python 3 (ipykernel)",
   "language": "python",
   "name": "python3"
  },
  "language_info": {
   "codemirror_mode": {
    "name": "ipython",
    "version": 3
   },
   "file_extension": ".py",
   "mimetype": "text/x-python",
   "name": "python",
   "nbconvert_exporter": "python",
   "pygments_lexer": "ipython3",
   "version": "3.11.3"
  }
 },
 "nbformat": 4,
 "nbformat_minor": 5
}
